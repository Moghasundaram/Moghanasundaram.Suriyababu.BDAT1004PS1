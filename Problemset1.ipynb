{
 "cells": [
  {
   "cell_type": "markdown",
   "id": "199b4093",
   "metadata": {},
   "source": [
    "# Question 1"
   ]
  },
  {
   "cell_type": "markdown",
   "id": "2144aee7",
   "metadata": {},
   "source": [
    "What data type is each of the following?"
   ]
  },
  {
   "cell_type": "markdown",
   "id": "f788cbdb",
   "metadata": {},
   "source": [
    "    Exception\t              Description\n",
    "        5\t                 System.Int32\n",
    "        5.0\t               System.float\n",
    "        5 > 1\t             System.Boolean\n",
    "        '5'\t               System.Charater\n",
    "        5 * 2\t             Sytem.Int32\n",
    "       '5' * 2\t            System.Int32\n",
    "      '5' + '2'               System.Int32\n",
    "        5 / 2                 System.Int32\n",
    "        5 % 2                 System.Int32\n",
    "      {5, 2, 1}               SystemInt32[]\n",
    "        5 == 3                System.boolean\n",
    "     Pi (the number)          System.Double"
   ]
  },
  {
   "cell_type": "markdown",
   "id": "0c2f33cf",
   "metadata": {},
   "source": [
    "# Question 2"
   ]
  },
  {
   "cell_type": "markdown",
   "id": "634595bd",
   "metadata": {},
   "source": [
    "Write (and evaluate) C# expressions that answer these questions:"
   ]
  },
  {
   "cell_type": "markdown",
   "id": "68d521e1",
   "metadata": {},
   "source": [
    "a. How many letters are there in 'Supercalifragilisticexpialidocious'?"
   ]
  },
  {
   "cell_type": "code",
   "execution_count": null,
   "id": "4ad24d8a",
   "metadata": {},
   "outputs": [],
   "source": [
    "class program\n",
    "{\n",
    "static void Main(string[] args)\n",
    "            {\n",
    "            string word = \"Supercalifragilisticexpialidocious\";\n",
    "            Console.WriteLine(word.Length);\n",
    "            }\n",
    "}"
   ]
  },
  {
   "cell_type": "markdown",
   "id": "4289cf7c",
   "metadata": {},
   "source": [
    "b. Does 'Supercalifragilisticexpialidocious' contain 'ice' as a substring?"
   ]
  },
  {
   "cell_type": "code",
   "execution_count": null,
   "id": "dd767200",
   "metadata": {},
   "outputs": [],
   "source": [
    "class Program\n",
    "    {\n",
    "        static void Main(string[] args)\n",
    "            {\n",
    "                string word = \"Supercalifragilisticexpialidocious\";\n",
    "                string word1 = \"ice\";\n",
    "                Console.WriteLine(word.Contains(word1));          \n",
    "        }\n",
    "    }"
   ]
  },
  {
   "cell_type": "markdown",
   "id": "88f81ef6",
   "metadata": {},
   "source": [
    "c. Which of the following words is the longest:\n",
    "Supercalifragilisticexpialidocious, Honorificabilitudinitatibus, or\n",
    "Bababadalgharaghtakamminarronnkonn?"
   ]
  },
  {
   "cell_type": "code",
   "execution_count": null,
   "id": "f78f5cda",
   "metadata": {},
   "outputs": [],
   "source": [
    "class Program\n",
    "    {\n",
    "        static void Main(string[] args)\n",
    "        {\n",
    "            string word = \"Supercalifragilisticexpialidocious\";\n",
    "            string word1 = \"Honorificabilitudinitatibus\";\n",
    "            string word2 = \"Bababadalgharaghtakamminarronnkonn\";\n",
    "\n",
    "            if ((word.Length > word1.Length) & (word.Length > word2.Length))\n",
    "                Console.WriteLine(word);\n",
    "            else if ((word1.Length > word.Length) & (word1.Length > word2.Length))\n",
    "                Console.WriteLine(word1);\n",
    "            else if ((word2.Length > word.Length) & (word2.Length > word1.Length))\n",
    "                Console.WriteLine(word2);\n",
    "            else if ((word.Length == word1.Length) & (word.Length > word2.Length))\n",
    "                Console.WriteLine(\"{0} {1} are equal and greater than {2}\", word, word1, word2);\n",
    "            else if ((word1.Length == word2.Length) & (word1.Length > word.Length))\n",
    "                Console.WriteLine(\"{0} {1} are equal and greater than {2}\", word1, word2, word);\n",
    "            else if ((word.Length == word2.Length) & (word2.Length > word1.Length))\n",
    "                Console.WriteLine(\"{0} and {1} are of equal length and greater than {2}\", word, word2, word1);\n",
    "        }\n",
    "    }"
   ]
  },
  {
   "cell_type": "markdown",
   "id": "008d7a67",
   "metadata": {},
   "source": [
    "d. Which composer comes first in the dictionary: 'Berlioz', 'Borodin', 'Brian',\n",
    "'Bartok', 'Bellini', 'Buxtehude', 'Bernstein'. Which one comes last?"
   ]
  },
  {
   "cell_type": "code",
   "execution_count": null,
   "id": "a0f6f48a",
   "metadata": {},
   "outputs": [],
   "source": [
    " class Program\n",
    "    {\n",
    "        static void Main(string[] args)\n",
    "            {\n",
    "                string[] names = { \"Berlioz\", \"Borodin\", \"Brian\", \"Bartok\", \"Bellini\", \"Buxtehude\", \"Bernstein\" };\n",
    "                Array.Sort(names);\n",
    "                Console.WriteLine(\"first name is {0} \\nLast name is {1}\", names[0], names[6]);\n",
    "        }\n",
    "}"
   ]
  },
  {
   "cell_type": "markdown",
   "id": "926df9c8",
   "metadata": {},
   "source": [
    "# Question3"
   ]
  },
  {
   "cell_type": "markdown",
   "id": "75ea7e15",
   "metadata": {},
   "source": [
    "Implement function triangleArea(a,b,c) that takes as input the lengths of the 3\n",
    "sides of a triangle and returns the area of the triangle. By Heron's formula, the area\n",
    "of a triangle with side lengths a, b, and c is\n",
    "s(s - a)(s -b)(s -c)\n",
    ", where\n",
    "s = (a+b+c)/2. "
   ]
  },
  {
   "cell_type": "code",
   "execution_count": null,
   "id": "11a7a5d1",
   "metadata": {},
   "outputs": [],
   "source": [
    "class Program\n",
    "    {\n",
    "        static void Main(string[] args)\n",
    "        {\n",
    "           TriangleArea(2,2,2);\n",
    "        }\n",
    "        \n",
    "        static void TriangleArea(int a, int b, int c)\n",
    "        {\n",
    "            int s;\n",
    "            s = (a + b + c) / 2;\n",
    "            Console.WriteLine(Math.Sqrt(s * (s - a) * (s - b) * (s - c)));\n",
    "            \n",
    "        }\n",
    "}"
   ]
  },
  {
   "cell_type": "markdown",
   "id": "05aa4022",
   "metadata": {},
   "source": [
    "# Question4"
   ]
  },
  {
   "cell_type": "markdown",
   "id": "042b8417",
   "metadata": {},
   "source": [
    "Write a program in C# Sharp to separate odd and even integers in separate arrays.\n",
    "Go to the editor\n",
    "Test Data :\n",
    "Input the number of elements to be stored in the array :5\n",
    "Input 5 elements in the array :\n",
    "element - 0 : 25\n",
    "element - 1 : 47\n",
    "element - 2 : 42\n",
    "element - 3 : 56\n",
    "element - 4 : 32\n"
   ]
  },
  {
   "cell_type": "code",
   "execution_count": null,
   "id": "30cd7066",
   "metadata": {},
   "outputs": [],
   "source": [
    "\n",
    " class Program\n",
    "    {\n",
    "        static void Main(string[] args)\n",
    "        {\n",
    "           \n",
    "            int[] element = { 25, 47, 42, 56, 32 };\n",
    "            int[] element1 = new int[5];\n",
    "            int[] element2 = new int[5];\n",
    "            for (int i = 0; i < element.Length; i++)\n",
    "            {\n",
    "                if (element[i] % 2 == 0)\n",
    "                {\n",
    "                    element1[i] = element[i];\n",
    "                }\n",
    "                else\n",
    "                {\n",
    "                    element2[i] = element[i]; \n",
    "                }\n",
    "            }\n",
    "            Console.WriteLine(\"Even numbers...\");\n",
    "            int a = 5, b = 5;\n",
    "            for (int x = 0; x < a ; x++)\n",
    "            {\n",
    "             if (element1[x] !=0)\n",
    "                Console.WriteLine(element1[x]);\n",
    "            }\n",
    "            Console.WriteLine(\"Odd numbers...\");\n",
    "            for (int y = 0; y< b; y++)\n",
    "            {\n",
    "                if (element2[y] != 0)\n",
    "                    Console.WriteLine(element2[y]);\n",
    "            }\n",
    "        }"
   ]
  },
  {
   "cell_type": "markdown",
   "id": "a6d4dce9",
   "metadata": {},
   "source": [
    "# Question5"
   ]
  },
  {
   "cell_type": "markdown",
   "id": "dc1bd631",
   "metadata": {},
   "source": [
    "a. Write a function inside(x,y,x1,y1,x2,y2) that returns True or False\n",
    "depending on whether the point (x,y) lies in the rectangle with lower left\n",
    "corner (x1,y1) and upper right corner (x2,y2)."
   ]
  },
  {
   "cell_type": "code",
   "execution_count": null,
   "id": "0b489b3f",
   "metadata": {},
   "outputs": [],
   "source": [
    "class Program\n",
    "    {\n",
    "        static void Main(string[] args)\n",
    "        {\n",
    "            bool result = inside(1,1,0,0,2,3);\n",
    "            bool result1 = inside(-1,-1,0,0,2,3);\n",
    "            Console.WriteLine(result);\n",
    "            Console.WriteLine(result1);\n",
    "\n",
    "        }\n",
    "        public static bool inside(int x, int y, int x1, int y1, int x2, int y2)\n",
    "        {\n",
    "            \n",
    "            if (((x > x1) & (x < x2)) & ((y > y1) & (y < y2)))\n",
    "            {\n",
    "                return true;\n",
    "            }\n",
    "            else\n",
    "                return false;\n",
    "        }\n",
    "    }\n"
   ]
  },
  {
   "cell_type": "markdown",
   "id": "16964acb",
   "metadata": {},
   "source": [
    "b. Use function inside() from part a. to write an expression that tests whether\n",
    "the point (1,1) lies in both of the following rectangles: one with lower left\n",
    "corner (0.3, 0.5) and upper right corner (1.1, 0.7) and the other with lower\n",
    "left corner (0.5, 0.2) and upper right corner (1.1, 2). "
   ]
  },
  {
   "cell_type": "code",
   "execution_count": null,
   "id": "d6696de1",
   "metadata": {},
   "outputs": [],
   "source": [
    "class Program\n",
    "    {\n",
    "        static void Main(string[] args)\n",
    "        {\n",
    "            bool result = inside(1, 1);\n",
    "            bool result1 = inside1(1, 1);\n",
    "            Console.WriteLine(result);\n",
    "            Console.WriteLine(result1);\n",
    "\n",
    "        }\n",
    "        public static bool inside(int x, int y)\n",
    "        {\n",
    "            float rect1_x1 = 0.3f;\n",
    "            float rect1_y1 = 0.5f;\n",
    "            float rect1_x2 = 1.1f;\n",
    "            float rect1_y2 = 0.7f;\n",
    "            if (((x > rect1_x1) & (x < rect1_x2)) & ((y > rect1_y1) & (y <rect1_y2)))\n",
    "            {\n",
    "                return true;\n",
    "            }\n",
    "            else\n",
    "                return false;\n",
    "        }\n",
    "        public static bool inside1(int x, int y)\n",
    "        {\n",
    "            float rect1_x1 = 0.5f;\n",
    "            float rect1_y1 = 0.2f;\n",
    "            float rect1_x2 = 1.1f;\n",
    "            float rect1_y2 = 2f;\n",
    "            if (((x > rect1_x1) & (x < rect1_x2)) & ((y > rect1_y1) & (y < rect1_y2)))\n",
    "            {\n",
    "                return true;\n",
    "            }\n",
    "            else\n",
    "                return false;\n",
    "        }\n",
    "    }"
   ]
  },
  {
   "cell_type": "markdown",
   "id": "780e22d8",
   "metadata": {},
   "source": [
    "# Question 6 "
   ]
  },
  {
   "cell_type": "markdown",
   "id": "aea430c4",
   "metadata": {},
   "source": [
    "You can turn a word into pig-Latin using the following two rules (simplified):\n",
    "\n",
    "• If the word starts with a consonant, move that letter to the end and append\n",
    "'ay'. For example, 'happy' becomes 'appyhay' and 'pencil' becomes 'encilpay'.\n",
    "\n",
    "• If the word starts with a vowel, simply append 'way' to the end of the word.\n",
    "\n",
    "For example, 'enter' becomes 'enterway' and 'other' becomes 'otherway' . For\n",
    "our purposes, there are 5 vowels: a, e, i, o, u (so we count y as a consonant).\n",
    "Write a function pig() that takes a word (i.e., a string) as input and returns its pigLatin form. Your function should still work if the input word contains upper case\n",
    "characters. Your output should always be lower case however"
   ]
  },
  {
   "cell_type": "code",
   "execution_count": 57,
   "id": "32e66e9e",
   "metadata": {},
   "outputs": [
    {
     "name": "stdout",
     "output_type": "stream",
     "text": [
      "appyhay\n",
      "enterway\n"
     ]
    }
   ],
   "source": [
    "def pig(word):\n",
    "    word.lower()\n",
    "    vowels = ['a','e','i','o','u']\n",
    "    if word[0] in vowels:\n",
    "        print(word+'way')\n",
    "    else:\n",
    "        print(word[1:]+word[0]+'ay')\n",
    "pig('happy')\n",
    "pig('enter')"
   ]
  },
  {
   "cell_type": "markdown",
   "id": "8295f8aa",
   "metadata": {},
   "source": [
    "# Question 7"
   ]
  },
  {
   "cell_type": "markdown",
   "id": "f7c75951",
   "metadata": {},
   "source": [
    "File bloodtype1.txt records blood-types of patients (A, B, AB, O or OO) at a clinic.\n",
    "Write a function bldcount() that reads the file with name name and reports (i.e.,\n",
    "prints) how many patients there are in each bloodtype."
   ]
  },
  {
   "cell_type": "code",
   "execution_count": 10,
   "id": "7d12cf72",
   "metadata": {},
   "outputs": [
    {
     "name": "stdout",
     "output_type": "stream",
     "text": [
      "There are 28 patients of blood type A\n",
      "There are 14 patients of blood type B\n",
      "There are 13 patients of blood type AB\n",
      "There are 15 patients of blood type O\n",
      "There are 0 patients of blood type OO\n"
     ]
    }
   ],
   "source": [
    "blood_group = open(\"C:\\\\Users\\\\Mohan Moni\\\\Desktop\\\\bloodtype.txt\",\"r\")\n",
    "blood = blood_group.read()\n",
    "print(\"There are \"+str(blood.count(\"A\"))+\" patients of blood type A\")\n",
    "print(\"There are \"+str(blood.count(\"B\"))+\" patients of blood type B\")\n",
    "print(\"There are \"+str(blood.count(\"AB\"))+\" patients of blood type AB\")\n",
    "print(\"There are \"+str(blood.count(\"O\"))+\" patients of blood type O\")\n",
    "print(\"There are \"+str(blood.count(\"OO\"))+\" patients of blood type OO\")\n",
    "blood_group.close()"
   ]
  },
  {
   "cell_type": "markdown",
   "id": "db159c40",
   "metadata": {},
   "source": [
    "# Question 8"
   ]
  },
  {
   "cell_type": "markdown",
   "id": "0bd1c1f5",
   "metadata": {},
   "source": [
    "Write a function curconv() that takes as input:\n",
    "1. a currency represented using a string (e.g., 'JPY' for the Japanese Yen or\n",
    "'EUR' for the Euro)\n",
    "2. an amount\n",
    "and then converts and returns the amount in US dollars."
   ]
  },
  {
   "cell_type": "code",
   "execution_count": 97,
   "id": "d47d8734",
   "metadata": {},
   "outputs": [
    {
     "name": "stdout",
     "output_type": "stream",
     "text": [
      "122.96544\n",
      "1.241401\n"
     ]
    }
   ],
   "source": [
    "def curconvc(country_name, USD):\n",
    "    file=open(\"C:\\\\Users\\\\Mohan Moni\\\\Desktop\\\\currencies.txt\",\"r\")\n",
    "    rate=file.readlines()\n",
    "    for line in rate:\n",
    "        if country_name in line:\n",
    "            dollar = float(line.split()[1])\n",
    "            print(dollar*USD)\n",
    "curconvc('EUR',100)\n",
    "curconvc('JPY',100)\n",
    "            \n",
    "            "
   ]
  },
  {
   "cell_type": "markdown",
   "id": "473c3770",
   "metadata": {},
   "source": [
    "# Question 9"
   ]
  },
  {
   "cell_type": "markdown",
   "id": "c77d3332",
   "metadata": {},
   "source": [
    "Each of the following will cause an exception (an error). Identify what type of\n",
    "exception each will cause"
   ]
  },
  {
   "cell_type": "markdown",
   "id": "b4d1c253",
   "metadata": {},
   "source": [
    "Trying to add incompatible variables, as in\n",
    "adding 6 + ‘a’\n"
   ]
  },
  {
   "cell_type": "code",
   "execution_count": 98,
   "id": "3f4223d7",
   "metadata": {},
   "outputs": [
    {
     "ename": "TypeError",
     "evalue": "unsupported operand type(s) for +: 'int' and 'str'",
     "output_type": "error",
     "traceback": [
      "\u001b[1;31m---------------------------------------------------------------------------\u001b[0m",
      "\u001b[1;31mTypeError\u001b[0m                                 Traceback (most recent call last)",
      "\u001b[1;32m<ipython-input-98-9543e8d95dbd>\u001b[0m in \u001b[0;36m<module>\u001b[1;34m\u001b[0m\n\u001b[1;32m----> 1\u001b[1;33m \u001b[0mprint\u001b[0m\u001b[1;33m(\u001b[0m\u001b[1;36m6\u001b[0m\u001b[1;33m+\u001b[0m\u001b[1;34m'a'\u001b[0m\u001b[1;33m)\u001b[0m\u001b[1;33m\u001b[0m\u001b[1;33m\u001b[0m\u001b[0m\n\u001b[0m",
      "\u001b[1;31mTypeError\u001b[0m: unsupported operand type(s) for +: 'int' and 'str'"
     ]
    }
   ],
   "source": [
    "print(6+'a')"
   ]
  },
  {
   "cell_type": "markdown",
   "id": "87baeca6",
   "metadata": {},
   "source": [
    "Referring to the 12th item of a list that has only 10\n",
    "items"
   ]
  },
  {
   "cell_type": "code",
   "execution_count": 100,
   "id": "d0436a20",
   "metadata": {},
   "outputs": [
    {
     "ename": "IndexError",
     "evalue": "list index out of range",
     "output_type": "error",
     "traceback": [
      "\u001b[1;31m---------------------------------------------------------------------------\u001b[0m",
      "\u001b[1;31mIndexError\u001b[0m                                Traceback (most recent call last)",
      "\u001b[1;32m<ipython-input-100-e74b5599e5d5>\u001b[0m in \u001b[0;36m<module>\u001b[1;34m\u001b[0m\n\u001b[0;32m      1\u001b[0m \u001b[0mlist\u001b[0m \u001b[1;33m=\u001b[0m \u001b[1;33m[\u001b[0m\u001b[1;36m1\u001b[0m\u001b[1;33m,\u001b[0m\u001b[1;36m2\u001b[0m\u001b[1;33m,\u001b[0m\u001b[1;36m3\u001b[0m\u001b[1;33m,\u001b[0m\u001b[1;36m4\u001b[0m\u001b[1;33m,\u001b[0m\u001b[1;36m5\u001b[0m\u001b[1;33m,\u001b[0m\u001b[1;36m6\u001b[0m\u001b[1;33m,\u001b[0m\u001b[1;36m7\u001b[0m\u001b[1;33m,\u001b[0m\u001b[1;36m8\u001b[0m\u001b[1;33m,\u001b[0m\u001b[1;36m9\u001b[0m\u001b[1;33m,\u001b[0m\u001b[1;36m10\u001b[0m\u001b[1;33m]\u001b[0m\u001b[1;33m\u001b[0m\u001b[1;33m\u001b[0m\u001b[0m\n\u001b[1;32m----> 2\u001b[1;33m \u001b[0mprint\u001b[0m\u001b[1;33m(\u001b[0m\u001b[0mlist\u001b[0m\u001b[1;33m[\u001b[0m\u001b[1;36m12\u001b[0m\u001b[1;33m]\u001b[0m\u001b[1;33m)\u001b[0m\u001b[1;33m\u001b[0m\u001b[1;33m\u001b[0m\u001b[0m\n\u001b[0m",
      "\u001b[1;31mIndexError\u001b[0m: list index out of range"
     ]
    }
   ],
   "source": [
    "list = [1,2,3,4,5,6,7,8,9,10]\n",
    "print(list[12])"
   ]
  },
  {
   "cell_type": "markdown",
   "id": "578ce18f",
   "metadata": {},
   "source": [
    "Using a value that is out of range for a function’s\n",
    "input, such as calling math.sqrt(-1.0)\n"
   ]
  },
  {
   "cell_type": "code",
   "execution_count": 102,
   "id": "b254e3e4",
   "metadata": {},
   "outputs": [
    {
     "ename": "ValueError",
     "evalue": "math domain error",
     "output_type": "error",
     "traceback": [
      "\u001b[1;31m---------------------------------------------------------------------------\u001b[0m",
      "\u001b[1;31mValueError\u001b[0m                                Traceback (most recent call last)",
      "\u001b[1;32m<ipython-input-102-d39e523296ce>\u001b[0m in \u001b[0;36m<module>\u001b[1;34m\u001b[0m\n\u001b[0;32m      1\u001b[0m \u001b[1;32mimport\u001b[0m \u001b[0mmath\u001b[0m\u001b[1;33m\u001b[0m\u001b[1;33m\u001b[0m\u001b[0m\n\u001b[1;32m----> 2\u001b[1;33m \u001b[0mmath\u001b[0m\u001b[1;33m.\u001b[0m\u001b[0msqrt\u001b[0m\u001b[1;33m(\u001b[0m\u001b[1;33m-\u001b[0m\u001b[1;36m1.0\u001b[0m\u001b[1;33m)\u001b[0m\u001b[1;33m\u001b[0m\u001b[1;33m\u001b[0m\u001b[0m\n\u001b[0m",
      "\u001b[1;31mValueError\u001b[0m: math domain error"
     ]
    }
   ],
   "source": [
    "import math\n",
    "math.sqrt(-1.0)"
   ]
  },
  {
   "cell_type": "markdown",
   "id": "5dbb4914",
   "metadata": {},
   "source": [
    "Using an undeclared variable, such as print(x)\n",
    "when x has not been defined\n"
   ]
  },
  {
   "cell_type": "code",
   "execution_count": 103,
   "id": "b72900dc",
   "metadata": {},
   "outputs": [
    {
     "ename": "NameError",
     "evalue": "name 'x' is not defined",
     "output_type": "error",
     "traceback": [
      "\u001b[1;31m---------------------------------------------------------------------------\u001b[0m",
      "\u001b[1;31mNameError\u001b[0m                                 Traceback (most recent call last)",
      "\u001b[1;32m<ipython-input-103-fc17d851ef81>\u001b[0m in \u001b[0;36m<module>\u001b[1;34m\u001b[0m\n\u001b[1;32m----> 1\u001b[1;33m \u001b[0mprint\u001b[0m\u001b[1;33m(\u001b[0m\u001b[0mx\u001b[0m\u001b[1;33m)\u001b[0m\u001b[1;33m\u001b[0m\u001b[1;33m\u001b[0m\u001b[0m\n\u001b[0m",
      "\u001b[1;31mNameError\u001b[0m: name 'x' is not defined"
     ]
    }
   ],
   "source": [
    "print(x)"
   ]
  },
  {
   "cell_type": "markdown",
   "id": "c02bbce1",
   "metadata": {},
   "source": [
    "Trying to open a file that does not exist, such as\n",
    "mistyping the file name or looking in the wrong\n",
    "directory. "
   ]
  },
  {
   "cell_type": "code",
   "execution_count": 104,
   "id": "c4e10914",
   "metadata": {},
   "outputs": [
    {
     "ename": "FileNotFoundError",
     "evalue": "[Errno 2] No such file or directory: 'C:\\\\Users\\\\Mohan Moni\\\\Desktop\\\\blodtype.txt'",
     "output_type": "error",
     "traceback": [
      "\u001b[1;31m---------------------------------------------------------------------------\u001b[0m",
      "\u001b[1;31mFileNotFoundError\u001b[0m                         Traceback (most recent call last)",
      "\u001b[1;32m<ipython-input-104-42c3675e5045>\u001b[0m in \u001b[0;36m<module>\u001b[1;34m\u001b[0m\n\u001b[1;32m----> 1\u001b[1;33m \u001b[0mopen\u001b[0m\u001b[1;33m(\u001b[0m\u001b[1;34m\"C:\\\\Users\\\\Mohan Moni\\\\Desktop\\\\blodtype.txt\"\u001b[0m\u001b[1;33m)\u001b[0m\u001b[1;33m\u001b[0m\u001b[1;33m\u001b[0m\u001b[0m\n\u001b[0m",
      "\u001b[1;31mFileNotFoundError\u001b[0m: [Errno 2] No such file or directory: 'C:\\\\Users\\\\Mohan Moni\\\\Desktop\\\\blodtype.txt'"
     ]
    }
   ],
   "source": [
    "open(\"C:\\\\Users\\\\Mohan Moni\\\\Desktop\\\\blodtype.txt\")"
   ]
  },
  {
   "cell_type": "markdown",
   "id": "94cf4ff9",
   "metadata": {},
   "source": [
    "# Question 10"
   ]
  },
  {
   "cell_type": "markdown",
   "id": "de4ec16b",
   "metadata": {},
   "source": [
    "Encryption is the process of hiding the meaning of a text by substituting letters in the\n",
    "message with other letters, according to some system. If the process is successful, no\n",
    "one but the intended recipient can understand the encrypted message. Cryptanalysis\n",
    "refers to attempts to undo the encryption, even if some details of the encryption are\n",
    "unknown (for example, if an encrypted message has been intercepted). \n",
    "\n",
    "The first step of cryptanalysis is often to build up a table of letter frequencies in the encrypted text.\n",
    "Assume that the string letters is already defined as\n",
    "'abcdefghijklmnopqrstuvwxyz'. Write a function called frequencies()\n",
    "that takes a string as its only parameter, and returns a list of integers, showing the\n",
    "number of times each character appears in the text. Your function may ignore any\n",
    "characters that are not in letters."
   ]
  },
  {
   "cell_type": "code",
   "execution_count": 3,
   "id": "8a5ce107",
   "metadata": {},
   "outputs": [
    {
     "name": "stdout",
     "output_type": "stream",
     "text": [
      "1\n",
      "1\n",
      "1\n",
      "3\n",
      "5\n",
      "1\n",
      "1\n",
      "2\n",
      "1\n",
      "0\n",
      "1\n",
      "0\n",
      "1\n",
      "2\n",
      "4\n",
      "0\n",
      "1\n",
      "2\n",
      "0\n",
      "2\n",
      "1\n",
      "0\n",
      "1\n",
      "1\n",
      "0\n",
      "0\n",
      "\n",
      "\n",
      "1\n",
      "0\n",
      "0\n",
      "0\n",
      "1\n",
      "0\n",
      "0\n",
      "0\n",
      "0\n",
      "0\n",
      "0\n",
      "1\n",
      "0\n",
      "0\n",
      "0\n",
      "2\n",
      "0\n",
      "0\n",
      "0\n",
      "0\n",
      "0\n",
      "0\n",
      "0\n",
      "0\n",
      "0\n",
      "0\n"
     ]
    }
   ],
   "source": [
    "def frequencies(word):\n",
    "    encry = [\"a\",\"b\",\"c\",\"d\",\"e\",\"f\",\"g\",\"h\",\"i\",\"j\",\"k\",\"l\",\"m\",\"n\",\"o\",\"p\",\"q\",\"r\",\"s\",\"t\",\"u\",\"v\",\"w\",\"x\",\"y\",\"z\"]\n",
    "    for i in range(0,len(encry)):\n",
    "        print(word.count(encry[i]))\n",
    "frequencies('The quick red fox got bored and went home.')  \n",
    "print(\"\\n\")\n",
    "frequencies('apple')\n"
   ]
  },
  {
   "cell_type": "code",
   "execution_count": null,
   "id": "6a644d54",
   "metadata": {},
   "outputs": [],
   "source": []
  }
 ],
 "metadata": {
  "kernelspec": {
   "display_name": "Python 3",
   "language": "python",
   "name": "python3"
  },
  "language_info": {
   "codemirror_mode": {
    "name": "ipython",
    "version": 3
   },
   "file_extension": ".py",
   "mimetype": "text/x-python",
   "name": "python",
   "nbconvert_exporter": "python",
   "pygments_lexer": "ipython3",
   "version": "3.8.8"
  }
 },
 "nbformat": 4,
 "nbformat_minor": 5
}
